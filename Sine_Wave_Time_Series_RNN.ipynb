{
  "nbformat": 4,
  "nbformat_minor": 0,
  "metadata": {
    "colab": {
      "name": "Sine Wave Time Series - RNN.ipynb",
      "provenance": [],
      "collapsed_sections": []
    },
    "kernelspec": {
      "name": "python3",
      "display_name": "Python 3"
    },
    "language_info": {
      "name": "python"
    },
    "accelerator": "GPU"
  },
  "cells": [
    {
      "cell_type": "markdown",
      "metadata": {
        "id": "7BpT0VYgrY27"
      },
      "source": [
        "Forecasting Sine Wave using Recurrent Neural network (RNN) and Long Short term memory (LSTM)\n"
      ]
    },
    {
      "cell_type": "code",
      "metadata": {
        "id": "sCCZ2bkNljnl"
      },
      "source": [
        "import numpy as np\n",
        "import pandas as pd\n",
        "import seaborn as sns\n",
        "import matplotlib.pyplot as plt"
      ],
      "execution_count": 1,
      "outputs": []
    },
    {
      "cell_type": "code",
      "metadata": {
        "id": "eqsi_DV9lvF4"
      },
      "source": [
        "x = np.linspace(0,50,501)"
      ],
      "execution_count": 2,
      "outputs": []
    },
    {
      "cell_type": "code",
      "metadata": {
        "colab": {
          "base_uri": "https://localhost:8080/"
        },
        "id": "0WkRnarSl7My",
        "outputId": "a239ec9a-b9cb-4b33-f1af-c9f80aacd01d"
      },
      "source": [
        "x"
      ],
      "execution_count": 3,
      "outputs": [
        {
          "output_type": "execute_result",
          "data": {
            "text/plain": [
              "array([ 0. ,  0.1,  0.2,  0.3,  0.4,  0.5,  0.6,  0.7,  0.8,  0.9,  1. ,\n",
              "        1.1,  1.2,  1.3,  1.4,  1.5,  1.6,  1.7,  1.8,  1.9,  2. ,  2.1,\n",
              "        2.2,  2.3,  2.4,  2.5,  2.6,  2.7,  2.8,  2.9,  3. ,  3.1,  3.2,\n",
              "        3.3,  3.4,  3.5,  3.6,  3.7,  3.8,  3.9,  4. ,  4.1,  4.2,  4.3,\n",
              "        4.4,  4.5,  4.6,  4.7,  4.8,  4.9,  5. ,  5.1,  5.2,  5.3,  5.4,\n",
              "        5.5,  5.6,  5.7,  5.8,  5.9,  6. ,  6.1,  6.2,  6.3,  6.4,  6.5,\n",
              "        6.6,  6.7,  6.8,  6.9,  7. ,  7.1,  7.2,  7.3,  7.4,  7.5,  7.6,\n",
              "        7.7,  7.8,  7.9,  8. ,  8.1,  8.2,  8.3,  8.4,  8.5,  8.6,  8.7,\n",
              "        8.8,  8.9,  9. ,  9.1,  9.2,  9.3,  9.4,  9.5,  9.6,  9.7,  9.8,\n",
              "        9.9, 10. , 10.1, 10.2, 10.3, 10.4, 10.5, 10.6, 10.7, 10.8, 10.9,\n",
              "       11. , 11.1, 11.2, 11.3, 11.4, 11.5, 11.6, 11.7, 11.8, 11.9, 12. ,\n",
              "       12.1, 12.2, 12.3, 12.4, 12.5, 12.6, 12.7, 12.8, 12.9, 13. , 13.1,\n",
              "       13.2, 13.3, 13.4, 13.5, 13.6, 13.7, 13.8, 13.9, 14. , 14.1, 14.2,\n",
              "       14.3, 14.4, 14.5, 14.6, 14.7, 14.8, 14.9, 15. , 15.1, 15.2, 15.3,\n",
              "       15.4, 15.5, 15.6, 15.7, 15.8, 15.9, 16. , 16.1, 16.2, 16.3, 16.4,\n",
              "       16.5, 16.6, 16.7, 16.8, 16.9, 17. , 17.1, 17.2, 17.3, 17.4, 17.5,\n",
              "       17.6, 17.7, 17.8, 17.9, 18. , 18.1, 18.2, 18.3, 18.4, 18.5, 18.6,\n",
              "       18.7, 18.8, 18.9, 19. , 19.1, 19.2, 19.3, 19.4, 19.5, 19.6, 19.7,\n",
              "       19.8, 19.9, 20. , 20.1, 20.2, 20.3, 20.4, 20.5, 20.6, 20.7, 20.8,\n",
              "       20.9, 21. , 21.1, 21.2, 21.3, 21.4, 21.5, 21.6, 21.7, 21.8, 21.9,\n",
              "       22. , 22.1, 22.2, 22.3, 22.4, 22.5, 22.6, 22.7, 22.8, 22.9, 23. ,\n",
              "       23.1, 23.2, 23.3, 23.4, 23.5, 23.6, 23.7, 23.8, 23.9, 24. , 24.1,\n",
              "       24.2, 24.3, 24.4, 24.5, 24.6, 24.7, 24.8, 24.9, 25. , 25.1, 25.2,\n",
              "       25.3, 25.4, 25.5, 25.6, 25.7, 25.8, 25.9, 26. , 26.1, 26.2, 26.3,\n",
              "       26.4, 26.5, 26.6, 26.7, 26.8, 26.9, 27. , 27.1, 27.2, 27.3, 27.4,\n",
              "       27.5, 27.6, 27.7, 27.8, 27.9, 28. , 28.1, 28.2, 28.3, 28.4, 28.5,\n",
              "       28.6, 28.7, 28.8, 28.9, 29. , 29.1, 29.2, 29.3, 29.4, 29.5, 29.6,\n",
              "       29.7, 29.8, 29.9, 30. , 30.1, 30.2, 30.3, 30.4, 30.5, 30.6, 30.7,\n",
              "       30.8, 30.9, 31. , 31.1, 31.2, 31.3, 31.4, 31.5, 31.6, 31.7, 31.8,\n",
              "       31.9, 32. , 32.1, 32.2, 32.3, 32.4, 32.5, 32.6, 32.7, 32.8, 32.9,\n",
              "       33. , 33.1, 33.2, 33.3, 33.4, 33.5, 33.6, 33.7, 33.8, 33.9, 34. ,\n",
              "       34.1, 34.2, 34.3, 34.4, 34.5, 34.6, 34.7, 34.8, 34.9, 35. , 35.1,\n",
              "       35.2, 35.3, 35.4, 35.5, 35.6, 35.7, 35.8, 35.9, 36. , 36.1, 36.2,\n",
              "       36.3, 36.4, 36.5, 36.6, 36.7, 36.8, 36.9, 37. , 37.1, 37.2, 37.3,\n",
              "       37.4, 37.5, 37.6, 37.7, 37.8, 37.9, 38. , 38.1, 38.2, 38.3, 38.4,\n",
              "       38.5, 38.6, 38.7, 38.8, 38.9, 39. , 39.1, 39.2, 39.3, 39.4, 39.5,\n",
              "       39.6, 39.7, 39.8, 39.9, 40. , 40.1, 40.2, 40.3, 40.4, 40.5, 40.6,\n",
              "       40.7, 40.8, 40.9, 41. , 41.1, 41.2, 41.3, 41.4, 41.5, 41.6, 41.7,\n",
              "       41.8, 41.9, 42. , 42.1, 42.2, 42.3, 42.4, 42.5, 42.6, 42.7, 42.8,\n",
              "       42.9, 43. , 43.1, 43.2, 43.3, 43.4, 43.5, 43.6, 43.7, 43.8, 43.9,\n",
              "       44. , 44.1, 44.2, 44.3, 44.4, 44.5, 44.6, 44.7, 44.8, 44.9, 45. ,\n",
              "       45.1, 45.2, 45.3, 45.4, 45.5, 45.6, 45.7, 45.8, 45.9, 46. , 46.1,\n",
              "       46.2, 46.3, 46.4, 46.5, 46.6, 46.7, 46.8, 46.9, 47. , 47.1, 47.2,\n",
              "       47.3, 47.4, 47.5, 47.6, 47.7, 47.8, 47.9, 48. , 48.1, 48.2, 48.3,\n",
              "       48.4, 48.5, 48.6, 48.7, 48.8, 48.9, 49. , 49.1, 49.2, 49.3, 49.4,\n",
              "       49.5, 49.6, 49.7, 49.8, 49.9, 50. ])"
            ]
          },
          "metadata": {
            "tags": []
          },
          "execution_count": 3
        }
      ]
    },
    {
      "cell_type": "code",
      "metadata": {
        "id": "_3BMHVlYl7u-"
      },
      "source": [
        "y = np.sin(x)"
      ],
      "execution_count": 4,
      "outputs": []
    },
    {
      "cell_type": "code",
      "metadata": {
        "colab": {
          "base_uri": "https://localhost:8080/",
          "height": 282
        },
        "id": "DTwdW6Uol_aN",
        "outputId": "8779a3fb-6527-46e6-8107-ce6ee75b30fa"
      },
      "source": [
        "plt.plot(x,y)"
      ],
      "execution_count": 5,
      "outputs": [
        {
          "output_type": "execute_result",
          "data": {
            "text/plain": [
              "[<matplotlib.lines.Line2D at 0x7f1f58c50f90>]"
            ]
          },
          "metadata": {
            "tags": []
          },
          "execution_count": 5
        },
        {
          "output_type": "display_data",
          "data": {
            "image/png": "[encoded data removed]",
            "text/plain": [
              "<Figure size 432x288 with 1 Axes>"
            ]
          },
          "metadata": {
            "tags": [],
            "needs_background": "light"
          }
        }
      ]
    },
    {
      "cell_type": "code",
      "metadata": {
        "id": "lMM5jMmvmB3E"
      },
      "source": [
        "df = pd.DataFrame(data = y, index=x, columns=['Sin'])"
      ],
      "execution_count": 6,
      "outputs": []
    },
    {
      "cell_type": "code",
      "metadata": {
        "colab": {
          "base_uri": "https://localhost:8080/",
          "height": 419
        },
        "id": "bqcJTCqCmQS4",
        "outputId": "718a0ec3-8fcc-4fdd-8063-95dab7da3684"
      },
      "source": [
        "df"
      ],
      "execution_count": 7,
      "outputs": [
        {
          "output_type": "execute_result",
          "data": {
            "text/html": [
              "<div>\n",
              "<style scoped>\n",
              "    .dataframe tbody tr th:only-of-type {\n",
              "        vertical-align: middle;\n",
              "    }\n",
              "\n",
              "    .dataframe tbody tr th {\n",
              "        vertical-align: top;\n",
              "    }\n",
              "\n",
              "    .dataframe thead th {\n",
              "        text-align: right;\n",
              "    }\n",
              "</style>\n",
              "<table border=\"1\" class=\"dataframe\">\n",
              "  <thead>\n",
              "    <tr style=\"text-align: right;\">\n",
              "      <th></th>\n",
              "      <th>Sin</th>\n",
              "    </tr>\n",
              "  </thead>\n",
              "  <tbody>\n",
              "    <tr>\n",
              "      <th>0.0</th>\n",
              "      <td>0.000000</td>\n",
              "    </tr>\n",
              "    <tr>\n",
              "      <th>0.1</th>\n",
              "      <td>0.099833</td>\n",
              "    </tr>\n",
              "    <tr>\n",
              "      <th>0.2</th>\n",
              "      <td>0.198669</td>\n",
              "    </tr>\n",
              "    <tr>\n",
              "      <th>0.3</th>\n",
              "      <td>0.295520</td>\n",
              "    </tr>\n",
              "    <tr>\n",
              "      <th>0.4</th>\n",
              "      <td>0.389418</td>\n",
              "    </tr>\n",
              "    <tr>\n",
              "      <th>...</th>\n",
              "      <td>...</td>\n",
              "    </tr>\n",
              "    <tr>\n",
              "      <th>49.6</th>\n",
              "      <td>-0.617439</td>\n",
              "    </tr>\n",
              "    <tr>\n",
              "      <th>49.7</th>\n",
              "      <td>-0.535823</td>\n",
              "    </tr>\n",
              "    <tr>\n",
              "      <th>49.8</th>\n",
              "      <td>-0.448854</td>\n",
              "    </tr>\n",
              "    <tr>\n",
              "      <th>49.9</th>\n",
              "      <td>-0.357400</td>\n",
              "    </tr>\n",
              "    <tr>\n",
              "      <th>50.0</th>\n",
              "      <td>-0.262375</td>\n",
              "    </tr>\n",
              "  </tbody>\n",
              "</table>\n",
              "<p>501 rows × 1 columns</p>\n",
              "</div>"
            ],
            "text/plain": [
              "           Sin\n",
              "0.0   0.000000\n",
              "0.1   0.099833\n",
              "0.2   0.198669\n",
              "0.3   0.295520\n",
              "0.4   0.389418\n",
              "...        ...\n",
              "49.6 -0.617439\n",
              "49.7 -0.535823\n",
              "49.8 -0.448854\n",
              "49.9 -0.357400\n",
              "50.0 -0.262375\n",
              "\n",
              "[501 rows x 1 columns]"
            ]
          },
          "metadata": {
            "tags": []
          },
          "execution_count": 7
        }
      ]
    },
    {
      "cell_type": "code",
      "metadata": {
        "id": "8AGkNVGWmQs0"
      },
      "source": [
        "test_percent = 0.1"
      ],
      "execution_count": 8,
      "outputs": []
    },
    {
      "cell_type": "code",
      "metadata": {
        "colab": {
          "base_uri": "https://localhost:8080/"
        },
        "id": "Q87QRTUvmbKU",
        "outputId": "3009ba44-6c13-4fd0-e8fa-875ffeb7db5b"
      },
      "source": [
        "len(df) * test_percent"
      ],
      "execution_count": 9,
      "outputs": [
        {
          "output_type": "execute_result",
          "data": {
            "text/plain": [
              "50.1"
            ]
          },
          "metadata": {
            "tags": []
          },
          "execution_count": 9
        }
      ]
    },
    {
      "cell_type": "code",
      "metadata": {
        "id": "0Vzl01WOmlXT"
      },
      "source": [
        "test_point = np.round(len(df) * test_percent)"
      ],
      "execution_count": 10,
      "outputs": []
    },
    {
      "cell_type": "code",
      "metadata": {
        "colab": {
          "base_uri": "https://localhost:8080/"
        },
        "id": "nUSgARnemqva",
        "outputId": "23c35240-6091-47f9-8b27-19067cca6845"
      },
      "source": [
        "test_point"
      ],
      "execution_count": 11,
      "outputs": [
        {
          "output_type": "execute_result",
          "data": {
            "text/plain": [
              "50.0"
            ]
          },
          "metadata": {
            "tags": []
          },
          "execution_count": 11
        }
      ]
    },
    {
      "cell_type": "code",
      "metadata": {
        "id": "u8oh1of0msTz"
      },
      "source": [
        "test_ind = int(len(df) - test_point)"
      ],
      "execution_count": 12,
      "outputs": []
    },
    {
      "cell_type": "code",
      "metadata": {
        "colab": {
          "base_uri": "https://localhost:8080/"
        },
        "id": "VKM1FPslmxfk",
        "outputId": "5b4678f3-c832-47f6-a8a9-a71c01f11c8c"
      },
      "source": [
        "test_ind"
      ],
      "execution_count": 13,
      "outputs": [
        {
          "output_type": "execute_result",
          "data": {
            "text/plain": [
              "451"
            ]
          },
          "metadata": {
            "tags": []
          },
          "execution_count": 13
        }
      ]
    },
    {
      "cell_type": "code",
      "metadata": {
        "id": "F-PqRes1mzhc"
      },
      "source": [
        "train = df.iloc[:test_ind]\n",
        "test = df.iloc[test_ind:]"
      ],
      "execution_count": 14,
      "outputs": []
    },
    {
      "cell_type": "code",
      "metadata": {
        "colab": {
          "base_uri": "https://localhost:8080/",
          "height": 419
        },
        "id": "5A8f7nsunLaI",
        "outputId": "84195a22-8742-4730-8a5c-38b692a724d8"
      },
      "source": [
        "train"
      ],
      "execution_count": 15,
      "outputs": [
        {
          "output_type": "execute_result",
          "data": {
            "text/html": [
              "<div>\n",
              "<style scoped>\n",
              "    .dataframe tbody tr th:only-of-type {\n",
              "        vertical-align: middle;\n",
              "    }\n",
              "\n",
              "    .dataframe tbody tr th {\n",
              "        vertical-align: top;\n",
              "    }\n",
              "\n",
              "    .dataframe thead th {\n",
              "        text-align: right;\n",
              "    }\n",
              "</style>\n",
              "<table border=\"1\" class=\"dataframe\">\n",
              "  <thead>\n",
              "    <tr style=\"text-align: right;\">\n",
              "      <th></th>\n",
              "      <th>Sin</th>\n",
              "    </tr>\n",
              "  </thead>\n",
              "  <tbody>\n",
              "    <tr>\n",
              "      <th>0.0</th>\n",
              "      <td>0.000000</td>\n",
              "    </tr>\n",
              "    <tr>\n",
              "      <th>0.1</th>\n",
              "      <td>0.099833</td>\n",
              "    </tr>\n",
              "    <tr>\n",
              "      <th>0.2</th>\n",
              "      <td>0.198669</td>\n",
              "    </tr>\n",
              "    <tr>\n",
              "      <th>0.3</th>\n",
              "      <td>0.295520</td>\n",
              "    </tr>\n",
              "    <tr>\n",
              "      <th>0.4</th>\n",
              "      <td>0.389418</td>\n",
              "    </tr>\n",
              "    <tr>\n",
              "      <th>...</th>\n",
              "      <td>...</td>\n",
              "    </tr>\n",
              "    <tr>\n",
              "      <th>44.6</th>\n",
              "      <td>0.579164</td>\n",
              "    </tr>\n",
              "    <tr>\n",
              "      <th>44.7</th>\n",
              "      <td>0.657656</td>\n",
              "    </tr>\n",
              "    <tr>\n",
              "      <th>44.8</th>\n",
              "      <td>0.729577</td>\n",
              "    </tr>\n",
              "    <tr>\n",
              "      <th>44.9</th>\n",
              "      <td>0.794208</td>\n",
              "    </tr>\n",
              "    <tr>\n",
              "      <th>45.0</th>\n",
              "      <td>0.850904</td>\n",
              "    </tr>\n",
              "  </tbody>\n",
              "</table>\n",
              "<p>451 rows × 1 columns</p>\n",
              "</div>"
            ],
            "text/plain": [
              "           Sin\n",
              "0.0   0.000000\n",
              "0.1   0.099833\n",
              "0.2   0.198669\n",
              "0.3   0.295520\n",
              "0.4   0.389418\n",
              "...        ...\n",
              "44.6  0.579164\n",
              "44.7  0.657656\n",
              "44.8  0.729577\n",
              "44.9  0.794208\n",
              "45.0  0.850904\n",
              "\n",
              "[451 rows x 1 columns]"
            ]
          },
          "metadata": {
            "tags": []
          },
          "execution_count": 15
        }
      ]
    },
    {
      "cell_type": "code",
      "metadata": {
        "id": "rVfX16UOnMWs"
      },
      "source": [
        "from sklearn.preprocessing import MinMaxScaler"
      ],
      "execution_count": 16,
      "outputs": []
    },
    {
      "cell_type": "code",
      "metadata": {
        "id": "2X4PDoeln_3G"
      },
      "source": [
        "scaler = MinMaxScaler()"
      ],
      "execution_count": 17,
      "outputs": []
    },
    {
      "cell_type": "code",
      "metadata": {
        "id": "TekY2nj3oCKD"
      },
      "source": [
        "scaled_train = scaler.fit_transform(train)"
      ],
      "execution_count": 18,
      "outputs": []
    },
    {
      "cell_type": "code",
      "metadata": {
        "id": "Fr8H5p66ogwg"
      },
      "source": [
        "scaled_test = scaler.transform(test)"
      ],
      "execution_count": 19,
      "outputs": []
    },
    {
      "cell_type": "code",
      "metadata": {
        "id": "VeatizLToqkz"
      },
      "source": [
        "from tensorflow.keras.preprocessing.sequence import TimeseriesGenerator"
      ],
      "execution_count": 20,
      "outputs": []
    },
    {
      "cell_type": "code",
      "metadata": {
        "id": "MlwRLKz_LsiT"
      },
      "source": [
        "length = 25\n",
        "batch_size = 1\n",
        "\n",
        "generator = TimeseriesGenerator(scaled_train,scaled_train, batch_size=batch_size, length=length)"
      ],
      "execution_count": 21,
      "outputs": []
    },
    {
      "cell_type": "code",
      "metadata": {
        "colab": {
          "base_uri": "https://localhost:8080/"
        },
        "id": "VVvpWYBBMHSg",
        "outputId": "66738492-3ebf-4840-a636-7699726e3063"
      },
      "source": [
        "len(scaled_train)"
      ],
      "execution_count": 22,
      "outputs": [
        {
          "output_type": "execute_result",
          "data": {
            "text/plain": [
              "451"
            ]
          },
          "metadata": {
            "tags": []
          },
          "execution_count": 22
        }
      ]
    },
    {
      "cell_type": "code",
      "metadata": {
        "colab": {
          "base_uri": "https://localhost:8080/"
        },
        "id": "iPEQjHgpMOmT",
        "outputId": "38162503-9d57-4c6f-e189-ffebf1f49b57"
      },
      "source": [
        "len(generator)"
      ],
      "execution_count": 23,
      "outputs": [
        {
          "output_type": "execute_result",
          "data": {
            "text/plain": [
              "426"
            ]
          },
          "metadata": {
            "tags": []
          },
          "execution_count": 23
        }
      ]
    },
    {
      "cell_type": "code",
      "metadata": {
        "id": "xNIYMde8MTOQ"
      },
      "source": [
        "X, y = generator[0]"
      ],
      "execution_count": 24,
      "outputs": []
    },
    {
      "cell_type": "code",
      "metadata": {
        "colab": {
          "base_uri": "https://localhost:8080/"
        },
        "id": "8gnyQrS3Mezh",
        "outputId": "16aa3bb2-96d4-4df4-d2a1-d67fe6ec5f06"
      },
      "source": [
        "X"
      ],
      "execution_count": 25,
      "outputs": [
        {
          "output_type": "execute_result",
          "data": {
            "text/plain": [
              "array([[[0.49999912],\n",
              "        [0.54991622],\n",
              "        [0.59933458],\n",
              "        [0.64776041],\n",
              "        [0.69470985],\n",
              "        [0.73971381],\n",
              "        [0.78232262],\n",
              "        [0.82211054],\n",
              "        [0.85868004],\n",
              "        [0.89166571],\n",
              "        [0.92073798],\n",
              "        [0.94560637],\n",
              "        [0.9660224 ],\n",
              "        [0.98178208],\n",
              "        [0.99272794],\n",
              "        [0.99875061],\n",
              "        [0.99978993],\n",
              "        [0.9958355 ],\n",
              "        [0.98692684],\n",
              "        [0.97315296],\n",
              "        [0.95465148],\n",
              "        [0.93160726],\n",
              "        [0.90425056],\n",
              "        [0.87285471],\n",
              "        [0.83773342]]])"
            ]
          },
          "metadata": {
            "tags": []
          },
          "execution_count": 25
        }
      ]
    },
    {
      "cell_type": "code",
      "metadata": {
        "colab": {
          "base_uri": "https://localhost:8080/"
        },
        "id": "d-lTaljLMfdG",
        "outputId": "bb60ea31-7963-4806-9e64-7e1ded1dde25"
      },
      "source": [
        "y"
      ],
      "execution_count": 26,
      "outputs": [
        {
          "output_type": "execute_result",
          "data": {
            "text/plain": [
              "array([[0.79923759]])"
            ]
          },
          "metadata": {
            "tags": []
          },
          "execution_count": 26
        }
      ]
    },
    {
      "cell_type": "code",
      "metadata": {
        "id": "dN7qW2a-MgVX"
      },
      "source": [
        "#scaled_train"
      ],
      "execution_count": 27,
      "outputs": []
    },
    {
      "cell_type": "code",
      "metadata": {
        "id": "YfmkZvF7Nv4i"
      },
      "source": [
        "length = 25\n",
        "batch_size = 1\n",
        "generator = TimeseriesGenerator(scaled_train,scaled_train, batch_size=batch_size, length=length)"
      ],
      "execution_count": 28,
      "outputs": []
    },
    {
      "cell_type": "code",
      "metadata": {
        "id": "VEjgK7ZzOPl_"
      },
      "source": [
        "from tensorflow.keras.models import Sequential"
      ],
      "execution_count": 29,
      "outputs": []
    },
    {
      "cell_type": "code",
      "metadata": {
        "id": "lEgagFP9OUpK"
      },
      "source": [
        "from tensorflow.keras.layers import Dense,SimpleRNN, LSTM"
      ],
      "execution_count": 30,
      "outputs": []
    },
    {
      "cell_type": "code",
      "metadata": {
        "id": "hActwN2yO5T9"
      },
      "source": [
        "n_features = 1"
      ],
      "execution_count": 31,
      "outputs": []
    },
    {
      "cell_type": "code",
      "metadata": {
        "id": "KZSvHrUKO-FV"
      },
      "source": [
        "model = Sequential()\n",
        "\n",
        "model.add(SimpleRNN(50, input_shape = (length,n_features)))\n",
        "\n",
        "model.add(Dense(1))\n",
        "\n",
        "model.compile(loss = 'mse', optimizer='adam')"
      ],
      "execution_count": 32,
      "outputs": []
    },
    {
      "cell_type": "code",
      "metadata": {
        "colab": {
          "base_uri": "https://localhost:8080/"
        },
        "id": "BAw_367tPCXV",
        "outputId": "0d94e7fd-a9c5-4659-85ae-6a5c3ff8e942"
      },
      "source": [
        "model.summary()"
      ],
      "execution_count": 33,
      "outputs": [
        {
          "output_type": "stream",
          "text": [
            "Model: \"sequential\"\n",
            "_________________________________________________________________\n",
            "Layer (type)                 Output Shape              Param #   \n",
            "=================================================================\n",
            "simple_rnn (SimpleRNN)       (None, 50)                2600      \n",
            "_________________________________________________________________\n",
            "dense (Dense)                (None, 1)                 51        \n",
            "=================================================================\n",
            "Total params: 2,651\n",
            "Trainable params: 2,651\n",
            "Non-trainable params: 0\n",
            "_________________________________________________________________\n"
          ],
          "name": "stdout"
        }
      ]
    },
    {
      "cell_type": "code",
      "metadata": {
        "colab": {
          "base_uri": "https://localhost:8080/"
        },
        "id": "HwcgPwjDPg4d",
        "outputId": "f2315b2c-55ec-425a-f14e-fc034f9a94e6"
      },
      "source": [
        "model.fit_generator(generator,epochs = 5)"
      ],
      "execution_count": 34,
      "outputs": [
        {
          "output_type": "stream",
          "text": [
            "/usr/local/lib/python3.7/dist-packages/tensorflow/python/keras/engine/training.py:1940: UserWarning: `Model.fit_generator` is deprecated and will be removed in a future version. Please use `Model.fit`, which supports generators.\n",
            "  warnings.warn('`Model.fit_generator` is deprecated and '\n"
          ],
          "name": "stderr"
        },
        {
          "output_type": "stream",
          "text": [
            "Epoch 1/5\n",
            "426/426 [==============================] - 10s 16ms/step - loss: 0.0075\n",
            "Epoch 2/5\n",
            "426/426 [==============================] - 7s 16ms/step - loss: 1.1370e-04\n",
            "Epoch 3/5\n",
            "426/426 [==============================] - 7s 16ms/step - loss: 2.4670e-04\n",
            "Epoch 4/5\n",
            "426/426 [==============================] - 7s 16ms/step - loss: 5.8196e-05\n",
            "Epoch 5/5\n",
            "426/426 [==============================] - 7s 16ms/step - loss: 4.2153e-04\n"
          ],
          "name": "stdout"
        },
        {
          "output_type": "execute_result",
          "data": {
            "text/plain": [
              "<tensorflow.python.keras.callbacks.History at 0x7f1f1027ccd0>"
            ]
          },
          "metadata": {
            "tags": []
          },
          "execution_count": 34
        }
      ]
    },
    {
      "cell_type": "code",
      "metadata": {
        "id": "Z4_nd2FRQPDb"
      },
      "source": [
        " losses = pd.DataFrame(model.history.history)\n",
        " "
      ],
      "execution_count": 35,
      "outputs": []
    },
    {
      "cell_type": "code",
      "metadata": {
        "colab": {
          "base_uri": "https://localhost:8080/",
          "height": 282
        },
        "id": "U4mB7zI9Q64l",
        "outputId": "a1403bf4-be1d-4149-b88d-e722a6875997"
      },
      "source": [
        "losses.plot()"
      ],
      "execution_count": 36,
      "outputs": [
        {
          "output_type": "execute_result",
          "data": {
            "text/plain": [
              "<matplotlib.axes._subplots.AxesSubplot at 0x7f1ece20c410>"
            ]
          },
          "metadata": {
            "tags": []
          },
          "execution_count": 36
        },
        {
          "output_type": "display_data",
          "data": {
            "image/png": "[encoded data removed]",
            "text/plain": [
              "<Figure size 432x288 with 1 Axes>"
            ]
          },
          "metadata": {
            "tags": [],
            "needs_background": "light"
          }
        }
      ]
    },
    {
      "cell_type": "code",
      "metadata": {
        "id": "_fTBeyJIQ9C4"
      },
      "source": [
        "first_eval_batch = scaled_train[-length:]"
      ],
      "execution_count": 37,
      "outputs": []
    },
    {
      "cell_type": "code",
      "metadata": {
        "id": "a1s_WwQFRujo"
      },
      "source": [
        "first_eval_batch = first_eval_batch.reshape(1,length,n_features)"
      ],
      "execution_count": 38,
      "outputs": []
    },
    {
      "cell_type": "code",
      "metadata": {
        "colab": {
          "base_uri": "https://localhost:8080/"
        },
        "id": "N7wBR8SDR5FM",
        "outputId": "4eee2ebf-7509-47c3-c406-bd8ae6ccab9c"
      },
      "source": [
        "model.predict(first_eval_batch)[0]"
      ],
      "execution_count": 39,
      "outputs": [
        {
          "output_type": "execute_result",
          "data": {
            "text/plain": [
              "array([0.9515682], dtype=float32)"
            ]
          },
          "metadata": {
            "tags": []
          },
          "execution_count": 39
        }
      ]
    },
    {
      "cell_type": "code",
      "metadata": {
        "colab": {
          "base_uri": "https://localhost:8080/"
        },
        "id": "w_PbI1I6R81q",
        "outputId": "0acf7c53-fcd3-41ad-8273-5db14d419858"
      },
      "source": [
        "scaled_test[0]"
      ],
      "execution_count": 40,
      "outputs": [
        {
          "output_type": "execute_result",
          "data": {
            "text/plain": [
              "array([0.94955134])"
            ]
          },
          "metadata": {
            "tags": []
          },
          "execution_count": 40
        }
      ]
    },
    {
      "cell_type": "code",
      "metadata": {
        "colab": {
          "base_uri": "https://localhost:8080/"
        },
        "id": "B0BvJ1kMUIIG",
        "outputId": "4ce46132-87f9-4d75-f956-96bbc807ef4a"
      },
      "source": [
        "model.predict(first_eval_batch)"
      ],
      "execution_count": 41,
      "outputs": [
        {
          "output_type": "execute_result",
          "data": {
            "text/plain": [
              "array([[0.9515682]], dtype=float32)"
            ]
          },
          "metadata": {
            "tags": []
          },
          "execution_count": 41
        }
      ]
    },
    {
      "cell_type": "code",
      "metadata": {
        "id": "7z9lswQJR-3c"
      },
      "source": [
        "test_prediction = []\n",
        "\n",
        "first_eval_batch = scaled_train[-length:]\n",
        "current_batch = first_eval_batch.reshape(1,length,n_features)\n",
        "\n",
        "for i in range(len(test)):\n",
        "\n",
        "  current_pred = model.predict(current_batch)[0]\n",
        "  test_prediction.append(current_pred)\n",
        "  current_batch = np.append(current_batch[:,1:,:], [[current_pred]], axis=1)\n",
        "\n"
      ],
      "execution_count": 42,
      "outputs": []
    },
    {
      "cell_type": "code",
      "metadata": {
        "colab": {
          "base_uri": "https://localhost:8080/"
        },
        "id": "EhVFOJCHUqkO",
        "outputId": "18822429-2669-4b71-d46b-06e28b0b83e2"
      },
      "source": [
        "test_prediction"
      ],
      "execution_count": 43,
      "outputs": [
        {
          "output_type": "execute_result",
          "data": {
            "text/plain": [
              "[array([0.9515682], dtype=float32),\n",
              " array([0.9704442], dtype=float32),\n",
              " array([0.9855439], dtype=float32),\n",
              " array([0.99471414], dtype=float32),\n",
              " array([0.9996312], dtype=float32),\n",
              " array([0.9988995], dtype=float32),\n",
              " array([0.9932681], dtype=float32),\n",
              " array([0.9827732], dtype=float32),\n",
              " array([0.9671492], dtype=float32),\n",
              " array([0.9473523], dtype=float32),\n",
              " array([0.9231328], dtype=float32),\n",
              " array([0.89548063], dtype=float32),\n",
              " array([0.8637572], dtype=float32),\n",
              " array([0.8289659], dtype=float32),\n",
              " array([0.7912095], dtype=float32),\n",
              " array([0.7507433], dtype=float32),\n",
              " array([0.7080559], dtype=float32),\n",
              " array([0.66334456], dtype=float32),\n",
              " array([0.61753136], dtype=float32),\n",
              " array([0.5699594], dtype=float32),\n",
              " array([0.52216214], dtype=float32),\n",
              " array([0.47363436], dtype=float32),\n",
              " array([0.42569283], dtype=float32),\n",
              " array([0.37799403], dtype=float32),\n",
              " array([0.3317965], dtype=float32),\n",
              " array([0.2868942], dtype=float32),\n",
              " array([0.24437417], dtype=float32),\n",
              " array([0.20440814], dtype=float32),\n",
              " array([0.16767994], dtype=float32),\n",
              " array([0.13466904], dtype=float32),\n",
              " array([0.10550029], dtype=float32),\n",
              " array([0.08100946], dtype=float32),\n",
              " array([0.06099887], dtype=float32),\n",
              " array([0.04619952], dtype=float32),\n",
              " array([0.03626384], dtype=float32),\n",
              " array([0.03173348], dtype=float32),\n",
              " array([0.03225479], dtype=float32),\n",
              " array([0.03788479], dtype=float32),\n",
              " array([0.04860347], dtype=float32),\n",
              " array([0.06392728], dtype=float32),\n",
              " array([0.08407642], dtype=float32),\n",
              " array([0.10819695], dtype=float32),\n",
              " array([0.1366955], dtype=float32),\n",
              " array([0.16848381], dtype=float32),\n",
              " array([0.2040255], dtype=float32),\n",
              " array([0.2422815], dtype=float32),\n",
              " array([0.2835094], dtype=float32),\n",
              " array([0.3268987], dtype=float32),\n",
              " array([0.37233812], dtype=float32),\n",
              " array([0.41938394], dtype=float32)]"
            ]
          },
          "metadata": {
            "tags": []
          },
          "execution_count": 43
        }
      ]
    },
    {
      "cell_type": "code",
      "metadata": {
        "colab": {
          "base_uri": "https://localhost:8080/"
        },
        "id": "kEbFP8c9Uwb7",
        "outputId": "8082c822-88f5-4c5d-bff1-a07b88cde439"
      },
      "source": [
        "scaled_test"
      ],
      "execution_count": 44,
      "outputs": [
        {
          "output_type": "execute_result",
          "data": {
            "text/plain": [
              "array([[9.49551344e-01],\n",
              "       [9.69156618e-01],\n",
              "       [9.84074225e-01],\n",
              "       [9.94155114e-01],\n",
              "       [9.99298559e-01],\n",
              "       [9.99453170e-01],\n",
              "       [9.94617400e-01],\n",
              "       [9.84839568e-01],\n",
              "       [9.70217371e-01],\n",
              "       [9.50896908e-01],\n",
              "       [9.27071224e-01],\n",
              "       [8.98978376e-01],\n",
              "       [8.66899060e-01],\n",
              "       [8.31153800e-01],\n",
              "       [7.92099752e-01],\n",
              "       [7.50127132e-01],\n",
              "       [7.05655314e-01],\n",
              "       [6.59128649e-01],\n",
              "       [6.11012013e-01],\n",
              "       [5.61786173e-01],\n",
              "       [5.11942978e-01],\n",
              "       [4.61980443e-01],\n",
              "       [4.12397778e-01],\n",
              "       [3.63690397e-01],\n",
              "       [3.16344967e-01],\n",
              "       [2.70834550e-01],\n",
              "       [2.27613868e-01],\n",
              "       [1.87114770e-01],\n",
              "       [1.49741909e-01],\n",
              "       [1.15868702e-01],\n",
              "       [8.58335998e-02],\n",
              "       [5.99367021e-02],\n",
              "       [3.84367625e-02],\n",
              "       [2.15486014e-02],\n",
              "       [9.44095974e-03],\n",
              "       [2.23481297e-03],\n",
              "       [2.16257798e-06],\n",
              "       [2.76531647e-03],\n",
              "       [1.04966661e-02],\n",
              "       [2.31189624e-02],\n",
              "       [4.05060876e-02],\n",
              "       [6.24843152e-02],\n",
              "       [8.88340461e-02],\n",
              "       [1.19292002e-01],\n",
              "       [1.53553858e-01],\n",
              "       [1.91277281e-01],\n",
              "       [2.32085350e-01],\n",
              "       [2.75570325e-01],\n",
              "       [3.21297718e-01],\n",
              "       [3.68810636e-01]])"
            ]
          },
          "metadata": {
            "tags": []
          },
          "execution_count": 44
        }
      ]
    },
    {
      "cell_type": "code",
      "metadata": {
        "id": "n_J0YmyDVdAN"
      },
      "source": [
        "true_prediction = scaler.inverse_transform(test_prediction)"
      ],
      "execution_count": 45,
      "outputs": []
    },
    {
      "cell_type": "code",
      "metadata": {
        "colab": {
          "base_uri": "https://localhost:8080/"
        },
        "id": "sWylQRTiVz9C",
        "outputId": "15eaf4b2-7b67-47b3-8762-50a12829f27b"
      },
      "source": [
        "true_prediction"
      ],
      "execution_count": 46,
      "outputs": [
        {
          "output_type": "execute_result",
          "data": {
            "text/plain": [
              "array([[ 0.90313089],\n",
              "       [ 0.94088262],\n",
              "       [ 0.97108179],\n",
              "       [ 0.98942211],\n",
              "       [ 0.9992562 ],\n",
              "       [ 0.9977928 ],\n",
              "       [ 0.98653   ],\n",
              "       [ 0.96554039],\n",
              "       [ 0.93429267],\n",
              "       [ 0.89469917],\n",
              "       [ 0.84626053],\n",
              "       [ 0.79095669],\n",
              "       [ 0.72751032],\n",
              "       [ 0.65792829],\n",
              "       [ 0.58241613],\n",
              "       [ 0.5014844 ],\n",
              "       [ 0.41611026],\n",
              "       [ 0.32668827],\n",
              "       [ 0.2350626 ],\n",
              "       [ 0.13991945],\n",
              "       [ 0.04432569],\n",
              "       [-0.05272908],\n",
              "       [-0.14861139],\n",
              "       [-0.24400821],\n",
              "       [-0.33640254],\n",
              "       [-0.42620641],\n",
              "       [-0.51124579],\n",
              "       [-0.59117721],\n",
              "       [-0.66463303],\n",
              "       [-0.7306543 ],\n",
              "       [-0.78899132],\n",
              "       [-0.8379726 ],\n",
              "       [-0.87799344],\n",
              "       [-0.9075919 ],\n",
              "       [-0.92746311],\n",
              "       [-0.93652375],\n",
              "       [-0.93548115],\n",
              "       [-0.92422123],\n",
              "       [-0.90278405],\n",
              "       [-0.87213668],\n",
              "       [-0.83183872],\n",
              "       [-0.78359804],\n",
              "       [-0.72660139],\n",
              "       [-0.66302529],\n",
              "       [-0.59194247],\n",
              "       [-0.5154311 ],\n",
              "       [-0.43297595],\n",
              "       [-0.34619807],\n",
              "       [-0.25531995],\n",
              "       [-0.16122905]])"
            ]
          },
          "metadata": {
            "tags": []
          },
          "execution_count": 46
        }
      ]
    },
    {
      "cell_type": "code",
      "metadata": {
        "colab": {
          "base_uri": "https://localhost:8080/"
        },
        "id": "VTIhils8V1hY",
        "outputId": "41ef2563-6005-4c2b-fd93-86357a7554c0"
      },
      "source": [
        "test['prediction'] = true_prediction"
      ],
      "execution_count": 47,
      "outputs": [
        {
          "output_type": "stream",
          "text": [
            "/usr/local/lib/python3.7/dist-packages/ipykernel_launcher.py:1: SettingWithCopyWarning: \n",
            "A value is trying to be set on a copy of a slice from a DataFrame.\n",
            "Try using .loc[row_indexer,col_indexer] = value instead\n",
            "\n",
            "See the caveats in the documentation: https://pandas.pydata.org/pandas-docs/stable/user_guide/indexing.html#returning-a-view-versus-a-copy\n",
            "  \"\"\"Entry point for launching an IPython kernel.\n"
          ],
          "name": "stderr"
        }
      ]
    },
    {
      "cell_type": "code",
      "metadata": {
        "colab": {
          "base_uri": "https://localhost:8080/",
          "height": 1000
        },
        "id": "u20R6ToiWIye",
        "outputId": "0876bb44-24b9-470c-8262-b380eff065ce"
      },
      "source": [
        "test"
      ],
      "execution_count": 48,
      "outputs": [
        {
          "output_type": "execute_result",
          "data": {
            "text/html": [
              "<div>\n",
              "<style scoped>\n",
              "    .dataframe tbody tr th:only-of-type {\n",
              "        vertical-align: middle;\n",
              "    }\n",
              "\n",
              "    .dataframe tbody tr th {\n",
              "        vertical-align: top;\n",
              "    }\n",
              "\n",
              "    .dataframe thead th {\n",
              "        text-align: right;\n",
              "    }\n",
              "</style>\n",
              "<table border=\"1\" class=\"dataframe\">\n",
              "  <thead>\n",
              "    <tr style=\"text-align: right;\">\n",
              "      <th></th>\n",
              "      <th>Sin</th>\n",
              "      <th>prediction</th>\n",
              "    </tr>\n",
              "  </thead>\n",
              "  <tbody>\n",
              "    <tr>\n",
              "      <th>45.1</th>\n",
              "      <td>0.899097</td>\n",
              "      <td>0.903131</td>\n",
              "    </tr>\n",
              "    <tr>\n",
              "      <th>45.2</th>\n",
              "      <td>0.938307</td>\n",
              "      <td>0.940883</td>\n",
              "    </tr>\n",
              "    <tr>\n",
              "      <th>45.3</th>\n",
              "      <td>0.968142</td>\n",
              "      <td>0.971082</td>\n",
              "    </tr>\n",
              "    <tr>\n",
              "      <th>45.4</th>\n",
              "      <td>0.988304</td>\n",
              "      <td>0.989422</td>\n",
              "    </tr>\n",
              "    <tr>\n",
              "      <th>45.5</th>\n",
              "      <td>0.998591</td>\n",
              "      <td>0.999256</td>\n",
              "    </tr>\n",
              "    <tr>\n",
              "      <th>45.6</th>\n",
              "      <td>0.998900</td>\n",
              "      <td>0.997793</td>\n",
              "    </tr>\n",
              "    <tr>\n",
              "      <th>45.7</th>\n",
              "      <td>0.989229</td>\n",
              "      <td>0.986530</td>\n",
              "    </tr>\n",
              "    <tr>\n",
              "      <th>45.8</th>\n",
              "      <td>0.969673</td>\n",
              "      <td>0.965540</td>\n",
              "    </tr>\n",
              "    <tr>\n",
              "      <th>45.9</th>\n",
              "      <td>0.940429</td>\n",
              "      <td>0.934293</td>\n",
              "    </tr>\n",
              "    <tr>\n",
              "      <th>46.0</th>\n",
              "      <td>0.901788</td>\n",
              "      <td>0.894699</td>\n",
              "    </tr>\n",
              "    <tr>\n",
              "      <th>46.1</th>\n",
              "      <td>0.854137</td>\n",
              "      <td>0.846261</td>\n",
              "    </tr>\n",
              "    <tr>\n",
              "      <th>46.2</th>\n",
              "      <td>0.797952</td>\n",
              "      <td>0.790957</td>\n",
              "    </tr>\n",
              "    <tr>\n",
              "      <th>46.3</th>\n",
              "      <td>0.733794</td>\n",
              "      <td>0.727510</td>\n",
              "    </tr>\n",
              "    <tr>\n",
              "      <th>46.4</th>\n",
              "      <td>0.662304</td>\n",
              "      <td>0.657928</td>\n",
              "    </tr>\n",
              "    <tr>\n",
              "      <th>46.5</th>\n",
              "      <td>0.584197</td>\n",
              "      <td>0.582416</td>\n",
              "    </tr>\n",
              "    <tr>\n",
              "      <th>46.6</th>\n",
              "      <td>0.500252</td>\n",
              "      <td>0.501484</td>\n",
              "    </tr>\n",
              "    <tr>\n",
              "      <th>46.7</th>\n",
              "      <td>0.411309</td>\n",
              "      <td>0.416110</td>\n",
              "    </tr>\n",
              "    <tr>\n",
              "      <th>46.8</th>\n",
              "      <td>0.318257</td>\n",
              "      <td>0.326688</td>\n",
              "    </tr>\n",
              "    <tr>\n",
              "      <th>46.9</th>\n",
              "      <td>0.222024</td>\n",
              "      <td>0.235063</td>\n",
              "    </tr>\n",
              "    <tr>\n",
              "      <th>47.0</th>\n",
              "      <td>0.123573</td>\n",
              "      <td>0.139919</td>\n",
              "    </tr>\n",
              "    <tr>\n",
              "      <th>47.1</th>\n",
              "      <td>0.023888</td>\n",
              "      <td>0.044326</td>\n",
              "    </tr>\n",
              "    <tr>\n",
              "      <th>47.2</th>\n",
              "      <td>-0.076037</td>\n",
              "      <td>-0.052729</td>\n",
              "    </tr>\n",
              "    <tr>\n",
              "      <th>47.3</th>\n",
              "      <td>-0.175201</td>\n",
              "      <td>-0.148611</td>\n",
              "    </tr>\n",
              "    <tr>\n",
              "      <th>47.4</th>\n",
              "      <td>-0.272615</td>\n",
              "      <td>-0.244008</td>\n",
              "    </tr>\n",
              "    <tr>\n",
              "      <th>47.5</th>\n",
              "      <td>-0.367305</td>\n",
              "      <td>-0.336403</td>\n",
              "    </tr>\n",
              "    <tr>\n",
              "      <th>47.6</th>\n",
              "      <td>-0.458325</td>\n",
              "      <td>-0.426206</td>\n",
              "    </tr>\n",
              "    <tr>\n",
              "      <th>47.7</th>\n",
              "      <td>-0.544766</td>\n",
              "      <td>-0.511246</td>\n",
              "    </tr>\n",
              "    <tr>\n",
              "      <th>47.8</th>\n",
              "      <td>-0.625764</td>\n",
              "      <td>-0.591177</td>\n",
              "    </tr>\n",
              "    <tr>\n",
              "      <th>47.9</th>\n",
              "      <td>-0.700509</td>\n",
              "      <td>-0.664633</td>\n",
              "    </tr>\n",
              "    <tr>\n",
              "      <th>48.0</th>\n",
              "      <td>-0.768255</td>\n",
              "      <td>-0.730654</td>\n",
              "    </tr>\n",
              "    <tr>\n",
              "      <th>48.1</th>\n",
              "      <td>-0.828324</td>\n",
              "      <td>-0.788991</td>\n",
              "    </tr>\n",
              "    <tr>\n",
              "      <th>48.2</th>\n",
              "      <td>-0.880118</td>\n",
              "      <td>-0.837973</td>\n",
              "    </tr>\n",
              "    <tr>\n",
              "      <th>48.3</th>\n",
              "      <td>-0.923117</td>\n",
              "      <td>-0.877993</td>\n",
              "    </tr>\n",
              "    <tr>\n",
              "      <th>48.4</th>\n",
              "      <td>-0.956893</td>\n",
              "      <td>-0.907592</td>\n",
              "    </tr>\n",
              "    <tr>\n",
              "      <th>48.5</th>\n",
              "      <td>-0.981108</td>\n",
              "      <td>-0.927463</td>\n",
              "    </tr>\n",
              "    <tr>\n",
              "      <th>48.6</th>\n",
              "      <td>-0.995521</td>\n",
              "      <td>-0.936524</td>\n",
              "    </tr>\n",
              "    <tr>\n",
              "      <th>48.7</th>\n",
              "      <td>-0.999986</td>\n",
              "      <td>-0.935481</td>\n",
              "    </tr>\n",
              "    <tr>\n",
              "      <th>48.8</th>\n",
              "      <td>-0.994460</td>\n",
              "      <td>-0.924221</td>\n",
              "    </tr>\n",
              "    <tr>\n",
              "      <th>48.9</th>\n",
              "      <td>-0.978997</td>\n",
              "      <td>-0.902784</td>\n",
              "    </tr>\n",
              "    <tr>\n",
              "      <th>49.0</th>\n",
              "      <td>-0.953753</td>\n",
              "      <td>-0.872137</td>\n",
              "    </tr>\n",
              "    <tr>\n",
              "      <th>49.1</th>\n",
              "      <td>-0.918979</td>\n",
              "      <td>-0.831839</td>\n",
              "    </tr>\n",
              "    <tr>\n",
              "      <th>49.2</th>\n",
              "      <td>-0.875023</td>\n",
              "      <td>-0.783598</td>\n",
              "    </tr>\n",
              "    <tr>\n",
              "      <th>49.3</th>\n",
              "      <td>-0.822324</td>\n",
              "      <td>-0.726601</td>\n",
              "    </tr>\n",
              "    <tr>\n",
              "      <th>49.4</th>\n",
              "      <td>-0.761408</td>\n",
              "      <td>-0.663025</td>\n",
              "    </tr>\n",
              "    <tr>\n",
              "      <th>49.5</th>\n",
              "      <td>-0.692885</td>\n",
              "      <td>-0.591942</td>\n",
              "    </tr>\n",
              "    <tr>\n",
              "      <th>49.6</th>\n",
              "      <td>-0.617439</td>\n",
              "      <td>-0.515431</td>\n",
              "    </tr>\n",
              "    <tr>\n",
              "      <th>49.7</th>\n",
              "      <td>-0.535823</td>\n",
              "      <td>-0.432976</td>\n",
              "    </tr>\n",
              "    <tr>\n",
              "      <th>49.8</th>\n",
              "      <td>-0.448854</td>\n",
              "      <td>-0.346198</td>\n",
              "    </tr>\n",
              "    <tr>\n",
              "      <th>49.9</th>\n",
              "      <td>-0.357400</td>\n",
              "      <td>-0.255320</td>\n",
              "    </tr>\n",
              "    <tr>\n",
              "      <th>50.0</th>\n",
              "      <td>-0.262375</td>\n",
              "      <td>-0.161229</td>\n",
              "    </tr>\n",
              "  </tbody>\n",
              "</table>\n",
              "</div>"
            ],
            "text/plain": [
              "           Sin  prediction\n",
              "45.1  0.899097    0.903131\n",
              "45.2  0.938307    0.940883\n",
              "45.3  0.968142    0.971082\n",
              "45.4  0.988304    0.989422\n",
              "45.5  0.998591    0.999256\n",
              "45.6  0.998900    0.997793\n",
              "45.7  0.989229    0.986530\n",
              "45.8  0.969673    0.965540\n",
              "45.9  0.940429    0.934293\n",
              "46.0  0.901788    0.894699\n",
              "46.1  0.854137    0.846261\n",
              "46.2  0.797952    0.790957\n",
              "46.3  0.733794    0.727510\n",
              "46.4  0.662304    0.657928\n",
              "46.5  0.584197    0.582416\n",
              "46.6  0.500252    0.501484\n",
              "46.7  0.411309    0.416110\n",
              "46.8  0.318257    0.326688\n",
              "46.9  0.222024    0.235063\n",
              "47.0  0.123573    0.139919\n",
              "47.1  0.023888    0.044326\n",
              "47.2 -0.076037   -0.052729\n",
              "47.3 -0.175201   -0.148611\n",
              "47.4 -0.272615   -0.244008\n",
              "47.5 -0.367305   -0.336403\n",
              "47.6 -0.458325   -0.426206\n",
              "47.7 -0.544766   -0.511246\n",
              "47.8 -0.625764   -0.591177\n",
              "47.9 -0.700509   -0.664633\n",
              "48.0 -0.768255   -0.730654\n",
              "48.1 -0.828324   -0.788991\n",
              "48.2 -0.880118   -0.837973\n",
              "48.3 -0.923117   -0.877993\n",
              "48.4 -0.956893   -0.907592\n",
              "48.5 -0.981108   -0.927463\n",
              "48.6 -0.995521   -0.936524\n",
              "48.7 -0.999986   -0.935481\n",
              "48.8 -0.994460   -0.924221\n",
              "48.9 -0.978997   -0.902784\n",
              "49.0 -0.953753   -0.872137\n",
              "49.1 -0.918979   -0.831839\n",
              "49.2 -0.875023   -0.783598\n",
              "49.3 -0.822324   -0.726601\n",
              "49.4 -0.761408   -0.663025\n",
              "49.5 -0.692885   -0.591942\n",
              "49.6 -0.617439   -0.515431\n",
              "49.7 -0.535823   -0.432976\n",
              "49.8 -0.448854   -0.346198\n",
              "49.9 -0.357400   -0.255320\n",
              "50.0 -0.262375   -0.161229"
            ]
          },
          "metadata": {
            "tags": []
          },
          "execution_count": 48
        }
      ]
    },
    {
      "cell_type": "code",
      "metadata": {
        "colab": {
          "base_uri": "https://localhost:8080/",
          "height": 500
        },
        "id": "V9enjtMWWJwU",
        "outputId": "c61ac2a3-9124-4e04-81ba-a5ec343e0bab"
      },
      "source": [
        "test.plot(figsize = (12,8))"
      ],
      "execution_count": 49,
      "outputs": [
        {
          "output_type": "execute_result",
          "data": {
            "text/plain": [
              "<matplotlib.axes._subplots.AxesSubplot at 0x7f1ece099a50>"
            ]
          },
          "metadata": {
            "tags": []
          },
          "execution_count": 49
        },
        {
          "output_type": "display_data",
          "data": {
            "image/png": "[encoded data removed]",
            "text/plain": [
              "<Figure size 864x576 with 1 Axes>"
            ]
          },
          "metadata": {
            "tags": [],
            "needs_background": "light"
          }
        }
      ]
    },
    {
      "cell_type": "code",
      "metadata": {
        "id": "tOr5Dqf4WOoW"
      },
      "source": [
        " from tensorflow.keras.callbacks import EarlyStopping"
      ],
      "execution_count": 50,
      "outputs": []
    },
    {
      "cell_type": "code",
      "metadata": {
        "id": "_L83-ju-umw1"
      },
      "source": [
        "early_stop = EarlyStopping(monitor='val_loss', patience=2)"
      ],
      "execution_count": 51,
      "outputs": []
    },
    {
      "cell_type": "code",
      "metadata": {
        "id": "Og1l03LOtA9A"
      },
      "source": [
        "validation_generator = TimeseriesGenerator(scaled_test,scaled_test,length=length, batch_size=1)"
      ],
      "execution_count": 53,
      "outputs": []
    },
    {
      "cell_type": "code",
      "metadata": {
        "id": "BhcEM9RatNJa"
      },
      "source": [
        "model = Sequential()\n",
        "\n",
        "model.add(LSTM(50, input_shape = (length,n_features)))\n",
        "\n",
        "model.add(Dense(1))\n",
        "\n",
        "model.compile(loss = 'mse', optimizer='adam')"
      ],
      "execution_count": 54,
      "outputs": []
    },
    {
      "cell_type": "code",
      "metadata": {
        "colab": {
          "base_uri": "https://localhost:8080/"
        },
        "id": "kk_DxIMDuCqf",
        "outputId": "9c55525d-a81b-4a69-ce37-47f933962b1a"
      },
      "source": [
        "model.fit(generator,epochs=20,validation_data=validation_generator,callbacks=[early_stop])"
      ],
      "execution_count": 55,
      "outputs": [
        {
          "output_type": "stream",
          "text": [
            "Epoch 1/20\n",
            "426/426 [==============================] - 6s 4ms/step - loss: 0.0113 - val_loss: 4.5246e-05\n",
            "Epoch 2/20\n",
            "426/426 [==============================] - 1s 3ms/step - loss: 1.2664e-04 - val_loss: 2.5186e-04\n",
            "Epoch 3/20\n",
            "426/426 [==============================] - 1s 3ms/step - loss: 4.9062e-04 - val_loss: 2.0775e-05\n",
            "Epoch 4/20\n",
            "426/426 [==============================] - 1s 3ms/step - loss: 4.2278e-05 - val_loss: 3.6173e-05\n",
            "Epoch 5/20\n",
            "426/426 [==============================] - 1s 3ms/step - loss: 4.2577e-05 - val_loss: 8.3350e-06\n",
            "Epoch 6/20\n",
            "426/426 [==============================] - 1s 3ms/step - loss: 7.9772e-05 - val_loss: 7.9869e-06\n",
            "Epoch 7/20\n",
            "426/426 [==============================] - 1s 3ms/step - loss: 1.6060e-04 - val_loss: 2.8187e-05\n",
            "Epoch 8/20\n",
            "426/426 [==============================] - 1s 3ms/step - loss: 2.4697e-04 - val_loss: 5.1197e-04\n"
          ],
          "name": "stdout"
        },
        {
          "output_type": "execute_result",
          "data": {
            "text/plain": [
              "<tensorflow.python.keras.callbacks.History at 0x7f1eaf9fa410>"
            ]
          },
          "metadata": {
            "tags": []
          },
          "execution_count": 55
        }
      ]
    },
    {
      "cell_type": "code",
      "metadata": {
        "colab": {
          "base_uri": "https://localhost:8080/"
        },
        "id": "SRmtt4cOuKf9",
        "outputId": "81b45fb9-b1ee-4b5a-93f8-351ed7a1774b"
      },
      "source": [
        "model.history.history"
      ],
      "execution_count": 62,
      "outputs": [
        {
          "output_type": "execute_result",
          "data": {
            "text/plain": [
              "{'loss': [0.01128430012613535,\n",
              "  0.000126635204651393,\n",
              "  0.0004906243993900716,\n",
              "  4.227824683766812e-05,\n",
              "  4.257661566953175e-05,\n",
              "  7.97719694674015e-05,\n",
              "  0.00016059614426922053,\n",
              "  0.0002469748433213681],\n",
              " 'val_loss': [4.5246029912959784e-05,\n",
              "  0.0002518561377655715,\n",
              "  2.0774738004547544e-05,\n",
              "  3.617319816839881e-05,\n",
              "  8.334973244927824e-06,\n",
              "  7.986946002347395e-06,\n",
              "  2.8187452699057758e-05,\n",
              "  0.0005119717097841203]}"
            ]
          },
          "metadata": {
            "tags": []
          },
          "execution_count": 62
        }
      ]
    },
    {
      "cell_type": "code",
      "metadata": {
        "id": "4IGN1ssruu3X"
      },
      "source": [
        "test_prediction = []\n",
        "\n",
        "first_eval_batch = scaled_train[-length:]\n",
        "current_batch = first_eval_batch.reshape(1,length,n_features)\n",
        "\n",
        "for i in range(len(test)):\n",
        "\n",
        "  current_pred = model.predict(current_batch)[0]\n",
        "  test_prediction.append(current_pred)\n",
        "  current_batch = np.append(current_batch[:,1:,:], [[current_pred]], axis=1)\n",
        "\n"
      ],
      "execution_count": 63,
      "outputs": []
    },
    {
      "cell_type": "code",
      "metadata": {
        "colab": {
          "base_uri": "https://localhost:8080/",
          "height": 622
        },
        "id": "0kdUnS4Yu3D6",
        "outputId": "ff2c0c6f-492f-43b3-eb69-2b2422b44b5a"
      },
      "source": [
        "true_prediction = scaler.inverse_transform(test_prediction)\n",
        "test['LSTM Prediction'] = true_prediction\n",
        "test.plot(figsize = (12,8))"
      ],
      "execution_count": 64,
      "outputs": [
        {
          "output_type": "stream",
          "text": [
            "/usr/local/lib/python3.7/dist-packages/ipykernel_launcher.py:2: SettingWithCopyWarning: \n",
            "A value is trying to be set on a copy of a slice from a DataFrame.\n",
            "Try using .loc[row_indexer,col_indexer] = value instead\n",
            "\n",
            "See the caveats in the documentation: https://pandas.pydata.org/pandas-docs/stable/user_guide/indexing.html#returning-a-view-versus-a-copy\n",
            "  \n"
          ],
          "name": "stderr"
        },
        {
          "output_type": "execute_result",
          "data": {
            "text/plain": [
              "<matplotlib.axes._subplots.AxesSubplot at 0x7f1eaf532790>"
            ]
          },
          "metadata": {
            "tags": []
          },
          "execution_count": 64
        },
        {
          "output_type": "display_data",
          "data": {
            "image/png": "[encoded data removed]",
            "text/plain": [
              "<Figure size 864x576 with 1 Axes>"
            ]
          },
          "metadata": {
            "tags": [],
            "needs_background": "light"
          }
        }
      ]
    },
    {
      "cell_type": "code",
      "metadata": {
        "colab": {
          "base_uri": "https://localhost:8080/",
          "height": 282
        },
        "id": "iPZbd5JRvOVN",
        "outputId": "0cf2ba26-c660-46fe-a2d4-f3c96d292687"
      },
      "source": [
        "df.plot()"
      ],
      "execution_count": 65,
      "outputs": [
        {
          "output_type": "execute_result",
          "data": {
            "text/plain": [
              "<matplotlib.axes._subplots.AxesSubplot at 0x7f1ec7a47610>"
            ]
          },
          "metadata": {
            "tags": []
          },
          "execution_count": 65
        },
        {
          "output_type": "display_data",
          "data": {
            "image/png": "[encoded data removed]",
            "text/plain": [
              "<Figure size 432x288 with 1 Axes>"
            ]
          },
          "metadata": {
            "tags": [],
            "needs_background": "light"
          }
        }
      ]
    },
    {
      "cell_type": "code",
      "metadata": {
        "id": "1xosiBktvij-"
      },
      "source": [
        " full_scaler = MinMaxScaler()\n",
        " scaled_full_data = full_scaler.fit_transform(df)"
      ],
      "execution_count": 66,
      "outputs": []
    },
    {
      "cell_type": "code",
      "metadata": {
        "id": "LBUcbmI7wKnt"
      },
      "source": [
        "generator = TimeseriesGenerator(scaled_full_data,scaled_full_data,length=length,batch_size=1)"
      ],
      "execution_count": 67,
      "outputs": []
    },
    {
      "cell_type": "code",
      "metadata": {
        "id": "DBlaokDowRkQ"
      },
      "source": [
        "model = Sequential()\n",
        "\n",
        "model.add(LSTM(50,input_shape = (length, n_features)))\n",
        "\n",
        "model.add(Dense(1))\n",
        "\n",
        "model.compile(optimizer='adam', loss = 'mse')"
      ],
      "execution_count": 68,
      "outputs": []
    },
    {
      "cell_type": "code",
      "metadata": {
        "colab": {
          "base_uri": "https://localhost:8080/"
        },
        "id": "j-KG_H_Hwj2x",
        "outputId": "cec523eb-ed20-463f-e3c9-dea79f7e61d6"
      },
      "source": [
        "model.fit(generator, epochs=8)"
      ],
      "execution_count": 69,
      "outputs": [
        {
          "output_type": "stream",
          "text": [
            "Epoch 1/8\n",
            "476/476 [==============================] - 3s 3ms/step - loss: 0.0094\n",
            "Epoch 2/8\n",
            "476/476 [==============================] - 2s 3ms/step - loss: 1.0588e-04\n",
            "Epoch 3/8\n",
            "476/476 [==============================] - 2s 3ms/step - loss: 1.5185e-04\n",
            "Epoch 4/8\n",
            "476/476 [==============================] - 2s 3ms/step - loss: 2.7346e-04\n",
            "Epoch 5/8\n",
            "476/476 [==============================] - 2s 3ms/step - loss: 2.3777e-04\n",
            "Epoch 6/8\n",
            "476/476 [==============================] - 2s 3ms/step - loss: 6.0351e-05\n",
            "Epoch 7/8\n",
            "476/476 [==============================] - 2s 3ms/step - loss: 3.7733e-04\n",
            "Epoch 8/8\n",
            "476/476 [==============================] - 2s 3ms/step - loss: 1.0451e-04\n"
          ],
          "name": "stdout"
        },
        {
          "output_type": "execute_result",
          "data": {
            "text/plain": [
              "<tensorflow.python.keras.callbacks.History at 0x7f1ec7939b10>"
            ]
          },
          "metadata": {
            "tags": []
          },
          "execution_count": 69
        }
      ]
    },
    {
      "cell_type": "code",
      "metadata": {
        "id": "b0mdfYiUwx5B"
      },
      "source": [
        "forecast = []\n",
        "\n",
        "first_eval_batch = scaled_train[-length:]\n",
        "current_batch = first_eval_batch.reshape(1,length,n_features)\n",
        "\n",
        "for i in range(25):\n",
        "\n",
        "  current_pred = model.predict(current_batch)[0]\n",
        "  forecast.append(current_pred)\n",
        "  current_batch = np.append(current_batch[:,1:,:], [[current_pred]], axis=1)\n",
        "\n"
      ],
      "execution_count": 70,
      "outputs": []
    },
    {
      "cell_type": "code",
      "metadata": {
        "colab": {
          "base_uri": "https://localhost:8080/",
          "height": 419
        },
        "id": "UiSBi0h-xQVb",
        "outputId": "8d3eca83-27b3-4ebf-c156-f163b1fe76e5"
      },
      "source": [
        "df"
      ],
      "execution_count": 71,
      "outputs": [
        {
          "output_type": "execute_result",
          "data": {
            "text/html": [
              "<div>\n",
              "<style scoped>\n",
              "    .dataframe tbody tr th:only-of-type {\n",
              "        vertical-align: middle;\n",
              "    }\n",
              "\n",
              "    .dataframe tbody tr th {\n",
              "        vertical-align: top;\n",
              "    }\n",
              "\n",
              "    .dataframe thead th {\n",
              "        text-align: right;\n",
              "    }\n",
              "</style>\n",
              "<table border=\"1\" class=\"dataframe\">\n",
              "  <thead>\n",
              "    <tr style=\"text-align: right;\">\n",
              "      <th></th>\n",
              "      <th>Sin</th>\n",
              "    </tr>\n",
              "  </thead>\n",
              "  <tbody>\n",
              "    <tr>\n",
              "      <th>0.0</th>\n",
              "      <td>0.000000</td>\n",
              "    </tr>\n",
              "    <tr>\n",
              "      <th>0.1</th>\n",
              "      <td>0.099833</td>\n",
              "    </tr>\n",
              "    <tr>\n",
              "      <th>0.2</th>\n",
              "      <td>0.198669</td>\n",
              "    </tr>\n",
              "    <tr>\n",
              "      <th>0.3</th>\n",
              "      <td>0.295520</td>\n",
              "    </tr>\n",
              "    <tr>\n",
              "      <th>0.4</th>\n",
              "      <td>0.389418</td>\n",
              "    </tr>\n",
              "    <tr>\n",
              "      <th>...</th>\n",
              "      <td>...</td>\n",
              "    </tr>\n",
              "    <tr>\n",
              "      <th>49.6</th>\n",
              "      <td>-0.617439</td>\n",
              "    </tr>\n",
              "    <tr>\n",
              "      <th>49.7</th>\n",
              "      <td>-0.535823</td>\n",
              "    </tr>\n",
              "    <tr>\n",
              "      <th>49.8</th>\n",
              "      <td>-0.448854</td>\n",
              "    </tr>\n",
              "    <tr>\n",
              "      <th>49.9</th>\n",
              "      <td>-0.357400</td>\n",
              "    </tr>\n",
              "    <tr>\n",
              "      <th>50.0</th>\n",
              "      <td>-0.262375</td>\n",
              "    </tr>\n",
              "  </tbody>\n",
              "</table>\n",
              "<p>501 rows × 1 columns</p>\n",
              "</div>"
            ],
            "text/plain": [
              "           Sin\n",
              "0.0   0.000000\n",
              "0.1   0.099833\n",
              "0.2   0.198669\n",
              "0.3   0.295520\n",
              "0.4   0.389418\n",
              "...        ...\n",
              "49.6 -0.617439\n",
              "49.7 -0.535823\n",
              "49.8 -0.448854\n",
              "49.9 -0.357400\n",
              "50.0 -0.262375\n",
              "\n",
              "[501 rows x 1 columns]"
            ]
          },
          "metadata": {
            "tags": []
          },
          "execution_count": 71
        }
      ]
    },
    {
      "cell_type": "code",
      "metadata": {
        "id": "kCPDKEfbxROa"
      },
      "source": [
        "forecast = scaler.inverse_transform(forecast)"
      ],
      "execution_count": 72,
      "outputs": []
    },
    {
      "cell_type": "code",
      "metadata": {
        "colab": {
          "base_uri": "https://localhost:8080/"
        },
        "id": "qSaYbZvaxVUl",
        "outputId": "042ec6cd-6448-4ed9-f82a-48dcdc06e54e"
      },
      "source": [
        "forecast"
      ],
      "execution_count": 73,
      "outputs": [
        {
          "output_type": "execute_result",
          "data": {
            "text/plain": [
              "array([[ 0.89071964],\n",
              "       [ 0.92622977],\n",
              "       [ 0.95162401],\n",
              "       [ 0.96679351],\n",
              "       [ 0.97173207],\n",
              "       [ 0.96653542],\n",
              "       [ 0.95139441],\n",
              "       [ 0.92658632],\n",
              "       [ 0.89246365],\n",
              "       [ 0.84944423],\n",
              "       [ 0.79800381],\n",
              "       [ 0.73866977],\n",
              "       [ 0.67201705],\n",
              "       [ 0.59866697],\n",
              "       [ 0.51928674],\n",
              "       [ 0.43459112],\n",
              "       [ 0.34534223],\n",
              "       [ 0.25235317],\n",
              "       [ 0.15648583],\n",
              "       [ 0.0586512 ],\n",
              "       [-0.04019552],\n",
              "       [-0.13906083],\n",
              "       [-0.23692271],\n",
              "       [-0.33274326],\n",
              "       [-0.42548561]])"
            ]
          },
          "metadata": {
            "tags": []
          },
          "execution_count": 73
        }
      ]
    },
    {
      "cell_type": "code",
      "metadata": {
        "id": "TXPKZdzExWUf"
      },
      "source": [
        "forecast_index = np.arange(50.1,52.6, step = 0.1)"
      ],
      "execution_count": 75,
      "outputs": []
    },
    {
      "cell_type": "code",
      "metadata": {
        "colab": {
          "base_uri": "https://localhost:8080/"
        },
        "id": "7Mz-WrsbxnGo",
        "outputId": "95f830f8-1555-4849-ec50-84b13c489d1e"
      },
      "source": [
        "len(forecast_index)"
      ],
      "execution_count": 76,
      "outputs": [
        {
          "output_type": "execute_result",
          "data": {
            "text/plain": [
              "25"
            ]
          },
          "metadata": {
            "tags": []
          },
          "execution_count": 76
        }
      ]
    },
    {
      "cell_type": "code",
      "metadata": {
        "colab": {
          "base_uri": "https://localhost:8080/"
        },
        "id": "kDVy_ZnvxsFm",
        "outputId": "6406afef-cffc-40ef-eb21-0eac61433b8e"
      },
      "source": [
        "len(forecast)"
      ],
      "execution_count": 77,
      "outputs": [
        {
          "output_type": "execute_result",
          "data": {
            "text/plain": [
              "25"
            ]
          },
          "metadata": {
            "tags": []
          },
          "execution_count": 77
        }
      ]
    },
    {
      "cell_type": "code",
      "metadata": {
        "colab": {
          "base_uri": "https://localhost:8080/",
          "height": 282
        },
        "id": "p4GoRwhdxu37",
        "outputId": "2d66bf41-6436-4917-9465-511aac25992b"
      },
      "source": [
        "plt.plot(df.index,df['Sin'])\n",
        "plt.plot(forecast_index,forecast)"
      ],
      "execution_count": 79,
      "outputs": [
        {
          "output_type": "execute_result",
          "data": {
            "text/plain": [
              "[<matplotlib.lines.Line2D at 0x7f1ec60a6950>]"
            ]
          },
          "metadata": {
            "tags": []
          },
          "execution_count": 79
        },
        {
          "output_type": "display_data",
          "data": {
            "image/png": "[encoded data removed]",
            "text/plain": [
              "<Figure size 432x288 with 1 Axes>"
            ]
          },
          "metadata": {
            "tags": [],
            "needs_background": "light"
          }
        }
      ]
    },
    {
      "cell_type": "code",
      "metadata": {
        "id": "NkZcKxxyx351"
      },
      "source": [
        ""
      ],
      "execution_count": null,
      "outputs": []
    }
  ]
}